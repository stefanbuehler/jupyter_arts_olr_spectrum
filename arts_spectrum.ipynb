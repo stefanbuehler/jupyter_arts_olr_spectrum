{
 "cells": [
  {
   "cell_type": "markdown",
   "metadata": {},
   "source": [
    "# Calculate absorption table and nadir OLR spectrum\n",
    "\n",
    "2020-09-30 Stefan Buehler\n",
    "\n",
    "Prerequisites: pyarts (for calculation), typhon (here just used in plotting)\n",
    "\n",
    "If you do not want the sourcecode yourself, you can simply install them with\n",
    "\n",
    "    pip install pyarts\n",
    "    pip install typhon\n",
    "    \n",
    "If you do want the sourcecode, you can get it for both packages from github: https://github.com/atmtools\n",
    "    \n",
    "The absorption lookup table format is described in this paper: https://doi.org/10.1016/j.jqsrt.2011.03.008\n",
    "\n",
    "You can see documentation for all ARTS variables and methods in the online browser for the built-in documentation:\n",
    "https://www.radiativetransfer.org/docserver-trunk\n",
    "\n",
    "On the ARTS webpage (https://www.radiativetransfer.org) there are also pointer to more traditional documentation (User guide, Theory guide, Developer guide). Not all of these are completely up to date, especially the python interface so far is poorly documented.\n",
    "\n",
    "This demo takes 1.5 minutes to run on my mac mini, whereof 1 minute is just the reading of the spectral line catalog files, and the rest is mostly the absorption table calculation. (We should probably think about adding a binary format option for the line catalogs, which would make a big difference to the reading speed.) \n",
    "\n",
    "The absorption calculation itself is quite complete in terms of species and spectral line coverage. The only adjustment introduced to make the demo small is that it uses only 250 frequencies (so a very coarse frequency spacing of 10 Kayser). This can be easily changed below where the frequency grid is set."
   ]
  },
  {
   "cell_type": "markdown",
   "metadata": {},
   "source": [
    "## Checks out a copy of the spectral line catalog and FASCOD atmosphere"
   ]
  },
  {
   "cell_type": "code",
   "execution_count": 1,
   "metadata": {
    "scrolled": false
   },
   "outputs": [],
   "source": [
    "%%bash\n",
    "svn co -q https://arts.mi.uni-hamburg.de/svn/rt/arts-xml-data/trunk/spectroscopy/Hitran/ > svnlog\n",
    "svn co -q https://arts.mi.uni-hamburg.de/svn/rt/arts-xml-data/trunk/planets/Earth/Fascod/tropical/ >> svnlog"
   ]
  },
  {
   "cell_type": "markdown",
   "metadata": {},
   "source": [
    "## Python imports"
   ]
  },
  {
   "cell_type": "code",
   "execution_count": 2,
   "metadata": {},
   "outputs": [],
   "source": [
    "import matplotlib.pyplot as plt\n",
    "import numpy as np\n",
    "#import pyarts.xml as axml                # With this you can load and save ARTS data files (input and output)\n",
    "from pyarts.workspace import Workspace\n",
    "from typhon.physics import frequency2wavenumber\n",
    "from typhon.physics import planck\n",
    "import os"
   ]
  },
  {
   "cell_type": "markdown",
   "metadata": {},
   "source": [
    "## Create ARTS workspace and load default settings"
   ]
  },
  {
   "cell_type": "code",
   "execution_count": 3,
   "metadata": {},
   "outputs": [],
   "source": [
    "ws = Workspace(verbosity=0)\n",
    "ws.execute_controlfile(\"general/general.arts\")\n",
    "ws.execute_controlfile(\"general/continua.arts\")\n",
    "ws.execute_controlfile(\"general/agendas.arts\")\n",
    "ws.execute_controlfile(\"general/planet_earth.arts\")\n",
    "ws.verbositySetScreen(ws.verbosity, 0)\n",
    "\n",
    "# Make various agenda choices\n",
    "# Agenda for scalar gas absorption calculation\n",
    "ws.Copy(ws.abs_xsec_agenda, ws.abs_xsec_agenda__noCIA)\n",
    "# (standard) emission calculation\n",
    "ws.Copy(ws.iy_main_agenda, ws.iy_main_agenda__Emission)\n",
    "# cosmic background radiation\n",
    "ws.Copy(ws.iy_space_agenda, ws.iy_space_agenda__CosmicBackground)\n",
    "# standard surface agenda (i.e., make use of surface_rtprop_agenda)\n",
    "ws.Copy(ws.iy_surface_agenda, ws.iy_surface_agenda__UseSurfaceRtprop)\n",
    "# Absorption from lookup table during RT calculation\n",
    "ws.Copy(ws.propmat_clearsky_agenda, ws.propmat_clearsky_agenda__LookUpTable)\n",
    "# sensor-only path\n",
    "ws.Copy(ws.ppath_agenda, ws.ppath_agenda__FollowSensorLosPath)\n",
    "# no refraction\n",
    "ws.Copy(ws.ppath_step_agenda, ws.ppath_step_agenda__GeometricPath)\n",
    "\n",
    "# Some other basic choices\n",
    "# Number of Stokes components to be computed\n",
    "ws.IndexSet(ws.stokes_dim, 1)\n",
    "# No jacobian calculation\n",
    "ws.jacobianOff()\n",
    "# Clearsky = No scattering\n",
    "ws.cloudboxOff()\n",
    "# We want radiance as y unit.\n",
    "ws.StringSet( ws.iy_unit, \"1\" )"
   ]
  },
  {
   "cell_type": "markdown",
   "metadata": {},
   "source": [
    "## Define list of absorption species"
   ]
  },
  {
   "cell_type": "code",
   "execution_count": 4,
   "metadata": {},
   "outputs": [],
   "source": [
    "ws.abs_speciesSet( \n",
    "    species=[ \"H2O, H2O-SelfContCKDMT252, H2O-ForeignContCKDMT252\", \n",
    "              \"O2, O2-CIAfunCKDMT100\", \n",
    "              \"O3\", \n",
    "              \"N2, N2-CIAfunCKDMT252, N2-CIArotCKDMT252\", \n",
    "              \"CO\", \n",
    "              \"CO2, CO2-CKDMT252\", \n",
    "              \"CH4\", \n",
    "              \"N2O\" ] )\n",
    "#ws.abs_speciesSet( \n",
    "#    species=[ \"H2O, H2O-SelfContCKDMT252, H2O-ForeignContCKDMT252\" ] )"
   ]
  },
  {
   "cell_type": "markdown",
   "metadata": {},
   "source": [
    "## Atmospheric scenario"
   ]
  },
  {
   "cell_type": "code",
   "execution_count": 5,
   "metadata": {},
   "outputs": [],
   "source": [
    "ws.AtmRawRead(basename=\"tropical/tropical\")\n",
    "\n",
    "# Set pressure grid from atmospheric scenario\n",
    "ws.p_gridFromZRaw()\n",
    "\n",
    "# Non reflecting surface\n",
    "ws.VectorSetConstant(ws.surface_scalar_reflectivity, 1, 0.0)\n",
    "ws.Copy(\n",
    "    ws.surface_rtprop_agenda,\n",
    "    ws.surface_rtprop_agenda__Specular_NoPol_ReflFix_SurfTFromt_surface,\n",
    ")\n",
    "\n",
    "# Atmosphere and surface\n",
    "ws.AtmosphereSet1D()\n",
    "ws.AtmFieldsCalc()\n",
    "ws.Extract(ws.z_surface, ws.z_field, 0)\n",
    "ws.Extract(ws.t_surface, ws.t_field, 0)"
   ]
  },
  {
   "cell_type": "markdown",
   "metadata": {},
   "source": [
    "## Generate absorption cross-section lookup table (or load it if it is already there)"
   ]
  },
  {
   "cell_type": "code",
   "execution_count": 6,
   "metadata": {},
   "outputs": [],
   "source": [
    "scriptname = \"arts_spectrum\"         # Base name for output files\n",
    "\n",
    "# Frequency grid (decrease step (last argument) for better resolution)\n",
    "ws.VectorLinSpace(ws.f_grid, 1., 2500., 10.)               # Creat grid in Kayser units\n",
    "#f_grid_kayser = ws.f_grid.value.copy()                    # Save a copy for later plotting\n",
    "ws.FrequencyFromCGSKayserWavenumber(ws.f_grid, ws.f_grid) # Convert to Hz\n",
    "ws.WriteXML(\"ascii\", ws.f_grid, scriptname+\".f_grid.xml\")\n",
    "\n",
    "ws.atmfields_checkedCalc()\n",
    "ws.abs_xsec_agenda_checkedCalc()\n",
    "\n",
    "# Calculate or load absorption\n",
    "abstabname = scriptname+\".abs_lookup.xml\"\n",
    "#if os.path.exists(abstabname):\n",
    "if False:\n",
    "    ws.ReadXML(ws.abs_lookup, abstabname)\n",
    "    ws.abs_lookupAdapt()\n",
    "else:\n",
    "    # Read line catalog (Richard's new HITRAN-based version)\n",
    "    ws.abs_lines_per_speciesReadSpeciesSplitCatalog(\n",
    "        basename = \"Hitran/\" )\n",
    "    \n",
    "    ws.abs_lines_per_speciesSetCutoff(option=\"ByLine\", value=750e9) # Line cutoff (as in MT_CKD H2O)\n",
    "    ws.abs_lines_per_speciesSetNormalization(option=\"VVH\")          # Van Vleck - Huber normalisation\n",
    "    ws.abs_lines_per_speciesCompact()                               # Kick out lines outside cutoff                               \n",
    "    \n",
    "    ws.lbl_checkedCalc()\n",
    "    ws.abs_lookupSetup()\n",
    "    ws.abs_lookupCalc()                                             # This actually generates the table!\n",
    "    ws.WriteXML(\"binary\", ws.abs_lookup, abstabname)"
   ]
  },
  {
   "cell_type": "markdown",
   "metadata": {},
   "source": [
    "## RT calculation"
   ]
  },
  {
   "cell_type": "code",
   "execution_count": 7,
   "metadata": {},
   "outputs": [],
   "source": [
    "# Definition of sensor position and line of sight (LOS)\n",
    "ws.MatrixSet(ws.sensor_pos, np.array([[35.786e3]]))\n",
    "ws.MatrixSet(ws.sensor_los, np.array([[180]]))\n",
    "\n",
    "# No sensor properties (we do monochromatic pencil beam calculations)\n",
    "ws.sensorOff()\n",
    "\n",
    "# Calculate or load nadir spectrum\n",
    "yname = scriptname+\".y.xml\"\n",
    "#if os.path.exists(yname):\n",
    "if False:\n",
    "    ws.ReadXML(ws.y, yname)\n",
    "else:\n",
    "    ws.propmat_clearsky_agenda_checkedCalc()\n",
    "    ws.atmgeom_checkedCalc()\n",
    "    ws.cloudbox_checkedCalc()\n",
    "    ws.sensor_checkedCalc()\n",
    "    ws.yCalc()\n",
    "    ws.WriteXML(\"ascii\", ws.y, yname)\n",
    "    \n",
    "#%%\n",
    "\n",
    "# Load spectral response functions\n",
    "#ws.ReadXML(ws.backend_channel_response, \"backend_channel_response_GOES-R_ABI_PFM_SRF_CWG_v3.xml\")\n",
    "#srf = axml.load(\"backend_channel_response_GOES-R_ABI_PFM_SRF_CWG_v3.xml\")\n",
    "\n",
    "#plt.figure()\n",
    "#plt.plot(f_grid_kayser, ws.y.value / 1e-12)\n",
    "\n",
    "#plt.xlabel(r\"Wavenumber / cm$^{-1}$\")\n",
    "#plt.ylabel(r\"Radiance / 10$^{-12}$ W sr$^{-1}$\")\n",
    "\n",
    "\n",
    "#plt.savefig(\"%s_a.pdf\" % (scriptname), bbox_inches='tight')\n",
    "\n",
    "\n",
    "\n"
   ]
  },
  {
   "cell_type": "markdown",
   "metadata": {},
   "source": [
    "## Plot resulting spectrum"
   ]
  },
  {
   "cell_type": "code",
   "execution_count": 8,
   "metadata": {},
   "outputs": [
    {
     "data": {
      "image/png": "[encoded data removed]",
      "text/plain": [
       "<Figure size 432x288 with 1 Axes>"
      ]
     },
     "metadata": {
      "needs_background": "light"
     },
     "output_type": "display_data"
    }
   ],
   "source": [
    "fig, ax1 = plt.subplots()\n",
    "ax1.plot(frequency2wavenumber(ws.f_grid.value)/100, ws.y.value / 1e-12, color=\"black\", linewidth=1)\n",
    "ax1.plot(frequency2wavenumber(ws.f_grid.value)/100, planck(ws.f_grid.value,299.7) / 1e-12, \n",
    "                              color=\"black\", linewidth=0.1)\n",
    "\n",
    "ax1.set_xlabel(r\"Wavenumber / cm$^{-1}$\")\n",
    "ax1.set_ylabel(r\"Nadir Radiance / 10$^{-12}$ W sr$^{-1}$\")\n",
    "\n",
    "ax1.set_title(\"Nadir OLR Spectrum, Tropical Atmosphere\")\n",
    "\n",
    "ax1.spines['right'].set_visible(False)\n",
    "ax1.spines['top'].set_visible(False)\n",
    "\n",
    "fig.tight_layout()\n",
    "\n",
    "fig.savefig(\"%s.pdf\" % (scriptname), bbox_inches='tight')\n",
    "\n"
   ]
  }
 ],
 "metadata": {
  "kernelspec": {
   "display_name": "Python 3",
   "language": "python",
   "name": "python3"
  },
  "language_info": {
   "codemirror_mode": {
    "name": "ipython",
    "version": 3
   },
   "file_extension": ".py",
   "mimetype": "text/x-python",
   "name": "python",
   "nbconvert_exporter": "python",
   "pygments_lexer": "ipython3",
   "version": "3.7.7"
  }
 },
 "nbformat": 4,
 "nbformat_minor": 4
}
